{
 "cells": [
  {
   "cell_type": "code",
   "execution_count": 3,
   "metadata": {},
   "outputs": [
    {
     "name": "stdout",
     "output_type": "stream",
     "text": [
      "X_train: (228, 1191)\n",
      "y_train: (228,)\n",
      "X_test: (58, 1191)\n",
      "y_test: (58,)\n"
     ]
    },
    {
     "name": "stderr",
     "output_type": "stream",
     "text": [
      "C:\\Users\\louis\\anaconda3\\lib\\site-packages\\sklearn\\model_selection\\_search.py:813: DeprecationWarning: The default of the `iid` parameter will change from True to False in version 0.22 and will be removed in 0.24. This will change numeric results when test-set sizes are unequal.\n",
      "  DeprecationWarning)\n"
     ]
    },
    {
     "name": "stdout",
     "output_type": "stream",
     "text": [
      "Best: 0.850877 using {'pipeline__selectkbest__k': 10, 'kneighborsclassifier__weights': 'uniform', 'kneighborsclassifier__p': 2, 'kneighborsclassifier__n_neighbors': 4, 'kneighborsclassifier__metric': 'minkowski', 'kneighborsclassifier__leaf_size': 20, 'kneighborsclassifier__algorithm': 'ball_tree'}\n",
      "[[26  0]\n",
      " [ 2 30]]\n",
      "              precision    recall  f1-score   support\n",
      "\n",
      "           0       0.93      1.00      0.96        26\n",
      "           1       1.00      0.94      0.97        32\n",
      "\n",
      "    accuracy                           0.97        58\n",
      "   macro avg       0.96      0.97      0.97        58\n",
      "weighted avg       0.97      0.97      0.97        58\n",
      "\n",
      "[[111   4]\n",
      " [ 22  91]]\n",
      "              precision    recall  f1-score   support\n",
      "\n",
      "           0       0.83      0.97      0.90       115\n",
      "           1       0.96      0.81      0.88       113\n",
      "\n",
      "    accuracy                           0.89       228\n",
      "   macro avg       0.90      0.89      0.89       228\n",
      "weighted avg       0.90      0.89      0.89       228\n",
      "\n",
      "None\n"
     ]
    },
    {
     "data": {
      "image/png": "[encoded data removed]",
      "text/plain": [
       "<Figure size 864x576 with 1 Axes>"
      ]
     },
     "metadata": {
      "needs_background": "light"
     },
     "output_type": "display_data"
    }
   ],
   "source": [
    "####################################################### PROGRAMME K-NEAREST NEIGHBORS ############################################\n",
    "\n",
    "######### IMPORT ##########\n",
    "import matplotlib.pyplot as plt\n",
    "import sklearn \n",
    "from sklearn.neighbors import KNeighborsClassifier\n",
    "from sklearn.model_selection import RandomizedSearchCV\n",
    "from sklearn.metrics import f1_score, confusion_matrix, classification_report\n",
    "from sklearn.model_selection import learning_curve\n",
    "from sklearn.feature_selection import SelectKBest, f_classif \n",
    "from sklearn.pipeline import make_pipeline \n",
    "import numpy as np\n",
    "import pandas as pd \n",
    "\n",
    "######## LECTURE DES DONNEES PRE-TRAITEES ########\n",
    "\n",
    "def load ():\n",
    "    X_train = pd.read_pickle('X_trains.pkl')\n",
    "    y_train = pd.read_pickle('y_trains.pkl')\n",
    "    X_test = pd.read_pickle('X_test.pkl')\n",
    "    y_test = pd.read_pickle('y_test.pkl')\n",
    "    \n",
    "    print (\"X_train:\", X_train.shape)\n",
    "    print (\"y_train:\", y_train.shape)\n",
    "    print(\"X_test:\", X_test.shape)\n",
    "    print(\"y_test:\", y_test.shape)\n",
    "    \n",
    "    \n",
    "    return (X_train, y_train, X_test, y_test) \n",
    "\n",
    "\n",
    "####### PROCEDURE D'EVALUATION DU MODEL DE MACHINE LEARNING #######\n",
    "\n",
    "def evaluation (model, X_train, y_train, X_test, y_test):\n",
    "    \n",
    "    \n",
    "    model.fit(X=X_train, y=y_train)\n",
    "    ypred_test = model.predict(X_test)\n",
    "    ypred_train = model.predict(X_train)\n",
    "    \n",
    "    print(confusion_matrix(y_test, ypred_test))\n",
    "    print(classification_report(y_test, ypred_test))\n",
    "    \n",
    "    print(confusion_matrix(y_train, ypred_train))\n",
    "    print(classification_report(y_train, ypred_train))\n",
    "    \n",
    "    \n",
    "    N, train_score, val_score = learning_curve (model, X_train, y_train, cv=4, scoring = 'f1',\n",
    "                                               train_sizes=np.linspace(0.1, 1, 10))\n",
    "                                               \n",
    "    plt.figure(figsize=(12, 8))\n",
    "    plt.plot(N, train_score.mean(axis = 1), label='train score')\n",
    "    plt.plot(N, val_score.mean(axis=1), label= 'validation score')\n",
    "    plt.legend()\n",
    "\n",
    "######## SELECTION DE VARIABLES #########\n",
    "\n",
    "selection =  make_pipeline(SelectKBest(f_classif, k=10))\n",
    "\n",
    "######## LE MODEL DE DEEP LEARNING ########\n",
    "\n",
    "KNN = make_pipeline(selection, KNeighborsClassifier ())\n",
    "\n",
    "######## REGLAGE DES HYPERS PARAMS #########\n",
    "\n",
    "def best_hyper_params (X_train, y_train, X_test, y_test): \n",
    "    \n",
    "##### Choisissez les plages d'hyperparamètres à regler \n",
    "    hyper_params = {'kneighborsclassifier__leaf_size': range(20, 35),\n",
    "               'kneighborsclassifier__n_neighbors': range(3, 5),\n",
    "               'kneighborsclassifier__p' : [1, 2],\n",
    "               'kneighborsclassifier__weights' : ['uniform', 'distance'], \n",
    "               'kneighborsclassifier__algorithm' : ['auto', 'ball_tree', 'kd_tree', 'brute'],\n",
    "               'kneighborsclassifier__metric' : [ 'manhattan', 'minkowski'],\n",
    "               'pipeline__selectkbest__k': range (8, 11)}\n",
    "    \n",
    "###### \n",
    "    grid = RandomizedSearchCV(KNN, hyper_params, scoring = 'accuracy', cv=4, n_iter=500)\n",
    "    grid_result = grid.fit(X_train, y_train)\n",
    "\n",
    "######\n",
    "    print(\"Best: %f using %s\" % (grid_result.best_score_, grid_result.best_params_))\n",
    "######\n",
    "    y_pred = grid.predict(X_test)\n",
    "\n",
    "    return grid.best_estimator_\n",
    "\n",
    "\n",
    "######### MAIN FUNCTION #########\n",
    "def main ():\n",
    "        X_train, y_train, X_test, y_test = load () \n",
    "        print (evaluation (best_hyper_params (X_train, y_train, X_test, y_test),X_train, y_train, X_test, y_test ))\n",
    "\n",
    "if __name__== \"__main__\" : \n",
    "    main()\n",
    "\n",
    "\n",
    "\n",
    "\n",
    "\n",
    "\n"
   ]
  },
  {
   "cell_type": "code",
   "execution_count": null,
   "metadata": {},
   "outputs": [],
   "source": []
  }
 ],
 "metadata": {
  "kernelspec": {
   "display_name": "Python 3",
   "language": "python",
   "name": "python3"
  },
  "language_info": {
   "codemirror_mode": {
    "name": "ipython",
    "version": 3
   },
   "file_extension": ".py",
   "mimetype": "text/x-python",
   "name": "python",
   "nbconvert_exporter": "python",
   "pygments_lexer": "ipython3",
   "version": "3.7.6"
  }
 },
 "nbformat": 4,
 "nbformat_minor": 4
}
